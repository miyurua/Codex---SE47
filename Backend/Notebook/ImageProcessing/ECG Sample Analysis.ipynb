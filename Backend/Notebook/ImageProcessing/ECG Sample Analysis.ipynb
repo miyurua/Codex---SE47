{
 "cells": [
  {
   "cell_type": "markdown",
   "metadata": {
    "id": "r00NqWdyieOF"
   },
   "source": [
    "### **ECG ANALYSIS SAMPLE**"
   ]
  },
  {
   "cell_type": "markdown",
   "metadata": {
    "id": "x_JytPc6irC2"
   },
   "source": [
    "#### **LOADING IMAGE FILE**"
   ]
  },
  {
   "cell_type": "code",
   "execution_count": null,
   "metadata": {
    "colab": {
     "base_uri": "https://localhost:8080/",
     "height": 844
    },
    "id": "rdBjGIvRxQCT",
    "outputId": "9ad92120-6752-43e0-cedd-85247551d871"
   },
   "outputs": [],
   "source": [
    "from skimage.io import imread\n",
    "from skimage import color\n",
    "import matplotlib.pyplot as plt\n",
    "\n",
    "fig0 , ax0 = plt.subplots()\n",
    "\n",
    "fig0.set_size_inches(20, 20)\n",
    "\n",
    "image=imread('./Train_set/Normal/Normal(7).jpg')\n",
    "\n",
    "ax0.imshow(image)\n",
    "plt.show()"
   ]
  },
  {
   "cell_type": "markdown",
   "metadata": {},
   "source": [
    "### TRANSFORMAING ECG IMAGES: REMOVING GRIDLINES/ PERFROM THRESHOLDING, BINARIZATION, GAUSSIAN FILTERING"
   ]
  },
  {
   "cell_type": "code",
   "execution_count": null,
   "metadata": {},
   "outputs": [],
   "source": [
    "#importing gaussian filter and otsu threshold\n",
    "from skimage.filters import threshold_otsu,gaussian\n",
    "from skimage.transform import resize\n",
    "import numpy\n",
    "\n",
    "fig1 , ax1 = plt.subplots()\n",
    "\n",
    "fig1.set_size_inches(20, 20)\n",
    "\n",
    "#converting to gray scale\n",
    "grayscale = color.rgb2gray(image)\n",
    "\n",
    "#smoothing image\n",
    "blurred_image = gaussian(grayscale, sigma=0.7)\n",
    "\n",
    "#thresholding to distinguish foreground and background\n",
    "#using otsu thresholding for getting threshold value\n",
    "global_thresh = threshold_otsu(blurred_image)\n",
    "print(global_thresh)\n",
    "\n",
    "#creating binary image based on threshold\n",
    "binary_global = blurred_image < global_thresh\n",
    "binary_global = numpy.invert(binary_global)\n",
    "ax1.imshow(binary_global,cmap='gray')\n",
    "ax1.set_title(\"prossessed ECG\")\n",
    "ax1.axis('off')\n",
    "image = binary_global"
   ]
  },
  {
   "cell_type": "markdown",
   "metadata": {},
   "source": [
    "### Extracting 12 leads from the ECG"
   ]
  },
  {
   "cell_type": "code",
   "execution_count": null,
   "metadata": {},
   "outputs": [],
   "source": [
    "#dividing the ECG leads from 1-13 from the above image\n",
    "Lead_1 = image[300:600, 150:643]\n",
    "Lead_2 = image[300:600, 646:1135]\n",
    "Lead_3 = image[300:600, 1140:1625]\n",
    "Lead_4 = image[300:600, 1630:2125]\n",
    "Lead_5 = image[600:900, 150:643]\n",
    "Lead_6 = image[600:900, 646:1135]\n",
    "Lead_7 = image[600:900, 1140:1625]\n",
    "Lead_8 = image[600:900, 1630:2125]\n",
    "Lead_9 = image[900:1200, 150:643]\n",
    "Lead_10 = image[900:1200, 646:1135]\n",
    "Lead_11 = image[900:1200, 1140:1625]\n",
    "Lead_12 = image[900:1200, 1630:2125]\n",
    "Lead_13 = image[1250:1480, 150:2125]\n",
    "\n",
    "Leads=[Lead_1,Lead_2,Lead_3,Lead_4,Lead_5,Lead_6,Lead_7,Lead_8,Lead_9,Lead_10,Lead_11,Lead_12,Lead_13]"
   ]
  },
  {
   "cell_type": "code",
   "execution_count": null,
   "metadata": {},
   "outputs": [],
   "source": [
    "from skimage.segmentation import slic\n",
    "from skimage.color import label2rgb\n",
    "\n",
    "#plotting lead 1-12\n",
    "fig2 , ax2 = plt.subplots(4,3)\n",
    "\n",
    "fig2.set_size_inches(20, 20)\n",
    "\n",
    "x_counter=0\n",
    "y_counter=0\n",
    "\n",
    "for x,y in enumerate(Leads[:len(Leads)-1]):\n",
    "    if (x+1)%3==0:\n",
    "        ax2[x_counter][y_counter].imshow(y, cmap=\"gray\")\n",
    "        ax2[x_counter][y_counter].axis('off')\n",
    "        ax2[x_counter][y_counter].set_title(\"Lead {}\".format(x+1))\n",
    "        x_counter+=1\n",
    "        y_counter=0\n",
    "    else:\n",
    "        ax2[x_counter][y_counter].imshow(y, cmap=\"gray\")\n",
    "        ax2[x_counter][y_counter].axis('off')\n",
    "        ax2[x_counter][y_counter].set_title(\"Lead {}\".format(x+1))\n",
    "        y_counter+=1\n",
    "\n",
    "image = plt.gcf()\n",
    "#plot the image\n",
    "plt.show()"
   ]
  },
  {
   "cell_type": "markdown",
   "metadata": {},
   "source": [
    "## Preprocessing all the images in the data set"
   ]
  },
  {
   "cell_type": "code",
   "execution_count": null,
   "metadata": {},
   "outputs": [],
   "source": [
    "#importind libraries\n",
    "import pandas as pd\n",
    "import numpy as np\n",
    "import os\n",
    "from natsort import natsorted\n",
    "#import joblib\n",
    "\n",
    "from skimage.io import imread\n",
    "from skimage import color\n",
    "import matplotlib.pyplot as plt\n",
    "\n",
    "from skimage.filters import threshold_otsu,gaussian\n",
    "from skimage.transform import resize\n",
    "\n",
    "from skimage.segmentation import slic\n",
    "from skimage.color import label2rgb\n",
    "import numpy"
   ]
  },
  {
   "cell_type": "markdown",
   "metadata": {},
   "source": [
    "### Creating array list and storing image names"
   ]
  },
  {
   "cell_type": "code",
   "execution_count": null,
   "metadata": {},
   "outputs": [],
   "source": [
    "#creating list to store file_names\n",
    "NORMAL_DATA=[]\n",
    "HB_DATA=[]\n",
    "MI_DATA=[]\n",
    "PMI_DATA=[]\n",
    "\n",
    "normal = './Train_set/Normal'\n",
    "hb = './Train_set/HB'\n",
    "mi = './Train_set/MI'\n",
    "pmi = './Train_set/PMI'\n",
    "\n",
    "Types_ECG = {'normal':normal,'Abnormal_hear_beat':hb,'MI':mi,'History_MI':pmi}\n",
    "\n",
    "for types,folder in Types_ECG.items():\n",
    "    for files in os.listdir(folder):\n",
    "        if types=='normal':\n",
    "            NORMAL_DATA.append(files)\n",
    "        elif types=='Abnormal_hear_beat':\n",
    "            HB_DATA.append(files)\n",
    "        elif types=='MI':\n",
    "            MI_DATA.append(files)\n",
    "        elif types=='History_MI':  \n",
    "            PMI_DATA.append(files)"
   ]
  },
  {
   "cell_type": "code",
   "execution_count": null,
   "metadata": {},
   "outputs": [],
   "source": [
    "#Sorting file names useing natsort\n",
    "NORMAL_DATA = natsorted(NORMAL_DATA)\n",
    "HB_DATA = natsorted(HB_DATA)\n",
    "MI_DATA = natsorted(MI_DATA)\n",
    "PMI_DATA = natsorted(PMI_DATA)"
   ]
  },
  {
   "cell_type": "markdown",
   "metadata": {},
   "source": [
    "### Normal data List"
   ]
  },
  {
   "cell_type": "code",
   "execution_count": null,
   "metadata": {
    "scrolled": true
   },
   "outputs": [],
   "source": [
    "NORMAL_DATA"
   ]
  },
  {
   "cell_type": "markdown",
   "metadata": {},
   "source": [
    "### Abnormal heart beat data List"
   ]
  },
  {
   "cell_type": "code",
   "execution_count": null,
   "metadata": {},
   "outputs": [],
   "source": [
    "HB_DATA"
   ]
  },
  {
   "cell_type": "markdown",
   "metadata": {},
   "source": [
    "### Myocardial infarction data List"
   ]
  },
  {
   "cell_type": "code",
   "execution_count": null,
   "metadata": {},
   "outputs": [],
   "source": [
    "MI_DATA"
   ]
  },
  {
   "cell_type": "markdown",
   "metadata": {},
   "source": [
    "### History in myocardial infarction data List"
   ]
  },
  {
   "cell_type": "code",
   "execution_count": null,
   "metadata": {},
   "outputs": [],
   "source": [
    "PMI_DATA"
   ]
  },
  {
   "cell_type": "markdown",
   "metadata": {},
   "source": [
    "### Preprocessing normal data"
   ]
  },
  {
   "cell_type": "code",
   "execution_count": null,
   "metadata": {},
   "outputs": [],
   "source": [
    "def process(image, loc):\n",
    "    fig0 , ax0 = plt.subplots()\n",
    "    fig0.set_size_inches(20, 20)\n",
    "    ax0.imshow(image)\n",
    "    plt.show()\n",
    "    \n",
    "    fig1 , ax1 = plt.subplots()\n",
    "    fig1.set_size_inches(20, 20)\n",
    "    grayscale = color.rgb2gray(image)\n",
    "    blurred_image = gaussian(grayscale, sigma=0.7)\n",
    "    global_thresh = threshold_otsu(blurred_image)\n",
    "    binary_global = blurred_image < global_thresh\n",
    "    binary_global = numpy.invert(binary_global)\n",
    "    ax1.imshow(binary_global,cmap='gray')\n",
    "    ax1.set_title(\"prossessed ECG\")\n",
    "    ax1.axis('off')\n",
    "    image = binary_global\n",
    "    \n",
    "    Lead_1 = image[300:600, 150:643]\n",
    "    Lead_2 = image[300:600, 646:1135]\n",
    "    Lead_3 = image[300:600, 1140:1625]\n",
    "    Lead_4 = image[300:600, 1630:2125]\n",
    "    Lead_5 = image[600:900, 150:643]\n",
    "    Lead_6 = image[600:900, 646:1135]\n",
    "    Lead_7 = image[600:900, 1140:1625]\n",
    "    Lead_8 = image[600:900, 1630:2125]\n",
    "    Lead_9 = image[900:1200, 150:643]\n",
    "    Lead_10 = image[900:1200, 646:1135]\n",
    "    Lead_11 = image[900:1200, 1140:1625]\n",
    "    Lead_12 = image[900:1200, 1630:2125]\n",
    "    Lead_13 = image[1250:1480, 150:2125]\n",
    "    Leads=[Lead_1,Lead_2,Lead_3,Lead_4,Lead_5,Lead_6,Lead_7,Lead_8,Lead_9,Lead_10,Lead_11,Lead_12,Lead_13]\n",
    "    \n",
    "    fig2 , ax2 = plt.subplots(4,3)\n",
    "    fig2.set_size_inches(20, 20)\n",
    "    x_counter=0\n",
    "    y_counter=0\n",
    "    for x,y in enumerate(Leads[:len(Leads)-1]):\n",
    "        if (x+1)%3==0:\n",
    "            ax2[x_counter][y_counter].imshow(y, cmap=\"gray\")\n",
    "            ax2[x_counter][y_counter].axis('off')\n",
    "            ax2[x_counter][y_counter].set_title(\"Lead {}\".format(x+1))\n",
    "            x_counter+=1\n",
    "            y_counter=0\n",
    "        else:\n",
    "            ax2[x_counter][y_counter].imshow(y, cmap=\"gray\")\n",
    "            ax2[x_counter][y_counter].axis('off')\n",
    "            ax2[x_counter][y_counter].set_title(\"Lead {}\".format(x+1))\n",
    "            y_counter+=1\n",
    "    fig2.savefig(loc)\n",
    "    plt.show()"
   ]
  },
  {
   "cell_type": "code",
   "execution_count": null,
   "metadata": {
    "scrolled": true
   },
   "outputs": [],
   "source": [
    "for d in NORMAL_DATA:\n",
    "    image=imread(r\"./Train_set/Normal/{}\".format(d))\n",
    "    loc = \"Preprocessed_{}\".format(d)\n",
    "    process(image, loc)"
   ]
  },
  {
   "cell_type": "code",
   "execution_count": null,
   "metadata": {},
   "outputs": [],
   "source": [
    "for d in HB_DATA:\n",
    "    image=imread(r\"./Train_set/HB/{}\".format(d))\n",
    "    loc = \"Preprocessed_{}\".format(d)\n",
    "    process(image, loc)"
   ]
  },
  {
   "cell_type": "code",
   "execution_count": null,
   "metadata": {},
   "outputs": [],
   "source": [
    "for d in MI_DATA:\n",
    "    image=imread(r\"./Train_set/MI/{}\".format(d))\n",
    "    loc = \"Preprocessed_{}\".format(d)\n",
    "    process(image, loc)"
   ]
  },
  {
   "cell_type": "code",
   "execution_count": null,
   "metadata": {},
   "outputs": [],
   "source": [
    "for d in PMI_DATA:\n",
    "    image=imread(r\"./Train_set/PMI/{}\".format(d))\n",
    "    loc = \"Preprocessed_{}\".format(d)\n",
    "    process(image, loc)"
   ]
  }
 ],
 "metadata": {
  "accelerator": "GPU",
  "colab": {
   "collapsed_sections": [
    "hSSkI7cpEXPj"
   ],
   "name": "CMPE_255_ECG_Analysis_Sample_FInal.ipynb",
   "provenance": []
  },
  "kernelspec": {
   "display_name": "Python 3 (ipykernel)",
   "language": "python",
   "name": "python3"
  },
  "language_info": {
   "codemirror_mode": {
    "name": "ipython",
    "version": 3
   },
   "file_extension": ".py",
   "mimetype": "text/x-python",
   "name": "python",
   "nbconvert_exporter": "python",
   "pygments_lexer": "ipython3",
   "version": "3.9.7"
  }
 },
 "nbformat": 4,
 "nbformat_minor": 1
}
